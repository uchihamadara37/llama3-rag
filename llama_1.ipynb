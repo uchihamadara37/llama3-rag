{
  "nbformat": 4,
  "nbformat_minor": 0,
  "metadata": {
    "colab": {
      "provenance": [],
      "authorship_tag": "ABX9TyObjLoAL5R93clfrPJMbjtP"
    },
    "kernelspec": {
      "name": "python3",
      "display_name": "Python 3"
    },
    "language_info": {
      "name": "python"
    }
  },
  "cells": [
    {
      "cell_type": "code",
      "execution_count": null,
      "metadata": {
        "colab": {
          "base_uri": "https://localhost:8080/"
        },
        "id": "v_osVNStEnOC",
        "outputId": "e6f4a28c-7c0d-4af1-cd5d-27aef691beb2"
      },
      "outputs": [
        {
          "output_type": "stream",
          "name": "stdout",
          "text": [
            "ok\n"
          ]
        }
      ],
      "source": [
        "print(\"ok\")"
      ]
    },
    {
      "cell_type": "code",
      "source": [
        "# @title\n"
      ],
      "metadata": {
        "id": "YzZB8r5CEsEU"
      },
      "execution_count": null,
      "outputs": []
    }
  ]
}